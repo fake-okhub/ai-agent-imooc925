{
 "cells": [
  {
   "cell_type": "markdown",
   "metadata": {},
   "source": [
    "## Graph_RAG\n",
    "***\n",
    "使用知识图谱来增强检索"
   ]
  },
  {
   "cell_type": "markdown",
   "metadata": {},
   "source": [
    "数据准备"
   ]
  },
  {
   "cell_type": "code",
   "execution_count": 2,
   "metadata": {},
   "outputs": [
    {
     "name": "stdout",
     "output_type": "stream",
     "text": [
      "\n",
      "\u001b[1m[\u001b[0m\u001b[34;49mnotice\u001b[0m\u001b[1;39;49m]\u001b[0m\u001b[39;49m A new release of pip is available: \u001b[0m\u001b[31;49m25.0\u001b[0m\u001b[39;49m -> \u001b[0m\u001b[32;49m25.0.1\u001b[0m\n",
      "\u001b[1m[\u001b[0m\u001b[34;49mnotice\u001b[0m\u001b[1;39;49m]\u001b[0m\u001b[39;49m To update, run: \u001b[0m\u001b[32;49mpip install --upgrade pip\u001b[0m\n"
     ]
    }
   ],
   "source": [
    "! pip install -qU graph_rag_example_helpers"
   ]
  },
  {
   "cell_type": "markdown",
   "metadata": {},
   "source": [
    "下载测试文档"
   ]
  },
  {
   "cell_type": "code",
   "execution_count": 3,
   "metadata": {},
   "outputs": [],
   "source": [
    "from graph_rag_example_helpers.datasets.animals import fetch_documents\n",
    "animals = fetch_documents()"
   ]
  },
  {
   "cell_type": "code",
   "execution_count": 4,
   "metadata": {},
   "outputs": [],
   "source": [
    "from langchain_openai import OpenAIEmbeddings\n",
    "\n",
    "embeddings = OpenAIEmbeddings(model=\"text-embedding-3-large\")"
   ]
  },
  {
   "cell_type": "code",
   "execution_count": 5,
   "metadata": {},
   "outputs": [
    {
     "name": "stdout",
     "output_type": "stream",
     "text": [
      "Requirement already satisfied: langchain-graph-retriever[chroma] in ./.venv/lib/python3.13/site-packages (0.6.1)\n",
      "Requirement already satisfied: backoff>=2.2.1 in ./.venv/lib/python3.13/site-packages (from langchain-graph-retriever[chroma]) (2.2.1)\n",
      "Requirement already satisfied: graph-retriever in ./.venv/lib/python3.13/site-packages (from langchain-graph-retriever[chroma]) (0.6.1)\n",
      "Requirement already satisfied: immutabledict>=4.2.1 in ./.venv/lib/python3.13/site-packages (from langchain-graph-retriever[chroma]) (4.2.1)\n",
      "Requirement already satisfied: langchain-core>=0.3.29 in ./.venv/lib/python3.13/site-packages (from langchain-graph-retriever[chroma]) (0.3.43)\n",
      "Requirement already satisfied: networkx>=3.4.2 in ./.venv/lib/python3.13/site-packages (from langchain-graph-retriever[chroma]) (3.4.2)\n",
      "Requirement already satisfied: pydantic>=2.10.4 in ./.venv/lib/python3.13/site-packages (from langchain-graph-retriever[chroma]) (2.10.6)\n",
      "Requirement already satisfied: typing-extensions>=4.12.2 in ./.venv/lib/python3.13/site-packages (from langchain-graph-retriever[chroma]) (4.12.2)\n",
      "Requirement already satisfied: chromadb>=0.5.23 in ./.venv/lib/python3.13/site-packages (from langchain-graph-retriever[chroma]) (0.6.3)\n",
      "Requirement already satisfied: langchain-chroma>=0.2.0 in ./.venv/lib/python3.13/site-packages (from langchain-graph-retriever[chroma]) (0.2.2)\n",
      "Requirement already satisfied: build>=1.0.3 in ./.venv/lib/python3.13/site-packages (from chromadb>=0.5.23->langchain-graph-retriever[chroma]) (1.2.2.post1)\n",
      "Requirement already satisfied: chroma-hnswlib==0.7.6 in ./.venv/lib/python3.13/site-packages (from chromadb>=0.5.23->langchain-graph-retriever[chroma]) (0.7.6)\n",
      "Requirement already satisfied: fastapi>=0.95.2 in ./.venv/lib/python3.13/site-packages (from chromadb>=0.5.23->langchain-graph-retriever[chroma]) (0.115.11)\n",
      "Requirement already satisfied: uvicorn>=0.18.3 in ./.venv/lib/python3.13/site-packages (from uvicorn[standard]>=0.18.3->chromadb>=0.5.23->langchain-graph-retriever[chroma]) (0.34.0)\n",
      "Requirement already satisfied: numpy>=1.22.5 in ./.venv/lib/python3.13/site-packages (from chromadb>=0.5.23->langchain-graph-retriever[chroma]) (1.26.4)\n",
      "Requirement already satisfied: posthog>=2.4.0 in ./.venv/lib/python3.13/site-packages (from chromadb>=0.5.23->langchain-graph-retriever[chroma]) (3.19.1)\n",
      "Requirement already satisfied: onnxruntime>=1.14.1 in ./.venv/lib/python3.13/site-packages (from chromadb>=0.5.23->langchain-graph-retriever[chroma]) (1.21.0)\n",
      "Requirement already satisfied: opentelemetry-api>=1.2.0 in ./.venv/lib/python3.13/site-packages (from chromadb>=0.5.23->langchain-graph-retriever[chroma]) (1.31.0)\n",
      "Requirement already satisfied: opentelemetry-exporter-otlp-proto-grpc>=1.2.0 in ./.venv/lib/python3.13/site-packages (from chromadb>=0.5.23->langchain-graph-retriever[chroma]) (1.31.0)\n",
      "Requirement already satisfied: opentelemetry-instrumentation-fastapi>=0.41b0 in ./.venv/lib/python3.13/site-packages (from chromadb>=0.5.23->langchain-graph-retriever[chroma]) (0.52b0)\n",
      "Requirement already satisfied: opentelemetry-sdk>=1.2.0 in ./.venv/lib/python3.13/site-packages (from chromadb>=0.5.23->langchain-graph-retriever[chroma]) (1.31.0)\n",
      "Requirement already satisfied: tokenizers>=0.13.2 in ./.venv/lib/python3.13/site-packages (from chromadb>=0.5.23->langchain-graph-retriever[chroma]) (0.21.0)\n",
      "Requirement already satisfied: pypika>=0.48.9 in ./.venv/lib/python3.13/site-packages (from chromadb>=0.5.23->langchain-graph-retriever[chroma]) (0.48.9)\n",
      "Requirement already satisfied: tqdm>=4.65.0 in ./.venv/lib/python3.13/site-packages (from chromadb>=0.5.23->langchain-graph-retriever[chroma]) (4.67.1)\n",
      "Requirement already satisfied: overrides>=7.3.1 in ./.venv/lib/python3.13/site-packages (from chromadb>=0.5.23->langchain-graph-retriever[chroma]) (7.7.0)\n",
      "Requirement already satisfied: importlib-resources in ./.venv/lib/python3.13/site-packages (from chromadb>=0.5.23->langchain-graph-retriever[chroma]) (6.5.2)\n",
      "Requirement already satisfied: grpcio>=1.58.0 in ./.venv/lib/python3.13/site-packages (from chromadb>=0.5.23->langchain-graph-retriever[chroma]) (1.71.0)\n",
      "Requirement already satisfied: bcrypt>=4.0.1 in ./.venv/lib/python3.13/site-packages (from chromadb>=0.5.23->langchain-graph-retriever[chroma]) (4.3.0)\n",
      "Requirement already satisfied: typer>=0.9.0 in ./.venv/lib/python3.13/site-packages (from chromadb>=0.5.23->langchain-graph-retriever[chroma]) (0.15.2)\n",
      "Requirement already satisfied: kubernetes>=28.1.0 in ./.venv/lib/python3.13/site-packages (from chromadb>=0.5.23->langchain-graph-retriever[chroma]) (32.0.1)\n",
      "Requirement already satisfied: tenacity>=8.2.3 in ./.venv/lib/python3.13/site-packages (from chromadb>=0.5.23->langchain-graph-retriever[chroma]) (9.0.0)\n",
      "Requirement already satisfied: PyYAML>=6.0.0 in ./.venv/lib/python3.13/site-packages (from chromadb>=0.5.23->langchain-graph-retriever[chroma]) (6.0.2)\n",
      "Requirement already satisfied: mmh3>=4.0.1 in ./.venv/lib/python3.13/site-packages (from chromadb>=0.5.23->langchain-graph-retriever[chroma]) (4.1.0)\n",
      "Requirement already satisfied: orjson>=3.9.12 in ./.venv/lib/python3.13/site-packages (from chromadb>=0.5.23->langchain-graph-retriever[chroma]) (3.10.15)\n",
      "Requirement already satisfied: httpx>=0.27.0 in ./.venv/lib/python3.13/site-packages (from chromadb>=0.5.23->langchain-graph-retriever[chroma]) (0.28.1)\n",
      "Requirement already satisfied: rich>=10.11.0 in ./.venv/lib/python3.13/site-packages (from chromadb>=0.5.23->langchain-graph-retriever[chroma]) (13.9.4)\n",
      "Requirement already satisfied: langsmith<0.4,>=0.1.125 in ./.venv/lib/python3.13/site-packages (from langchain-core>=0.3.29->langchain-graph-retriever[chroma]) (0.3.13)\n",
      "Requirement already satisfied: jsonpatch<2.0,>=1.33 in ./.venv/lib/python3.13/site-packages (from langchain-core>=0.3.29->langchain-graph-retriever[chroma]) (1.33)\n",
      "Requirement already satisfied: packaging<25,>=23.2 in ./.venv/lib/python3.13/site-packages (from langchain-core>=0.3.29->langchain-graph-retriever[chroma]) (24.2)\n",
      "Requirement already satisfied: annotated-types>=0.6.0 in ./.venv/lib/python3.13/site-packages (from pydantic>=2.10.4->langchain-graph-retriever[chroma]) (0.7.0)\n",
      "Requirement already satisfied: pydantic-core==2.27.2 in ./.venv/lib/python3.13/site-packages (from pydantic>=2.10.4->langchain-graph-retriever[chroma]) (2.27.2)\n",
      "Requirement already satisfied: pytest>=8.3.4 in ./.venv/lib/python3.13/site-packages (from graph-retriever->langchain-graph-retriever[chroma]) (8.3.5)\n",
      "Requirement already satisfied: pyproject_hooks in ./.venv/lib/python3.13/site-packages (from build>=1.0.3->chromadb>=0.5.23->langchain-graph-retriever[chroma]) (1.2.0)\n",
      "Requirement already satisfied: starlette<0.47.0,>=0.40.0 in ./.venv/lib/python3.13/site-packages (from fastapi>=0.95.2->chromadb>=0.5.23->langchain-graph-retriever[chroma]) (0.46.1)\n",
      "Requirement already satisfied: anyio in ./.venv/lib/python3.13/site-packages (from httpx>=0.27.0->chromadb>=0.5.23->langchain-graph-retriever[chroma]) (4.8.0)\n",
      "Requirement already satisfied: certifi in ./.venv/lib/python3.13/site-packages (from httpx>=0.27.0->chromadb>=0.5.23->langchain-graph-retriever[chroma]) (2025.1.31)\n",
      "Requirement already satisfied: httpcore==1.* in ./.venv/lib/python3.13/site-packages (from httpx>=0.27.0->chromadb>=0.5.23->langchain-graph-retriever[chroma]) (1.0.7)\n",
      "Requirement already satisfied: idna in ./.venv/lib/python3.13/site-packages (from httpx>=0.27.0->chromadb>=0.5.23->langchain-graph-retriever[chroma]) (3.10)\n",
      "Requirement already satisfied: h11<0.15,>=0.13 in ./.venv/lib/python3.13/site-packages (from httpcore==1.*->httpx>=0.27.0->chromadb>=0.5.23->langchain-graph-retriever[chroma]) (0.14.0)\n",
      "Requirement already satisfied: jsonpointer>=1.9 in ./.venv/lib/python3.13/site-packages (from jsonpatch<2.0,>=1.33->langchain-core>=0.3.29->langchain-graph-retriever[chroma]) (3.0.0)\n",
      "Requirement already satisfied: six>=1.9.0 in ./.venv/lib/python3.13/site-packages (from kubernetes>=28.1.0->chromadb>=0.5.23->langchain-graph-retriever[chroma]) (1.17.0)\n",
      "Requirement already satisfied: python-dateutil>=2.5.3 in ./.venv/lib/python3.13/site-packages (from kubernetes>=28.1.0->chromadb>=0.5.23->langchain-graph-retriever[chroma]) (2.9.0.post0)\n",
      "Requirement already satisfied: google-auth>=1.0.1 in ./.venv/lib/python3.13/site-packages (from kubernetes>=28.1.0->chromadb>=0.5.23->langchain-graph-retriever[chroma]) (2.38.0)\n",
      "Requirement already satisfied: websocket-client!=0.40.0,!=0.41.*,!=0.42.*,>=0.32.0 in ./.venv/lib/python3.13/site-packages (from kubernetes>=28.1.0->chromadb>=0.5.23->langchain-graph-retriever[chroma]) (1.8.0)\n",
      "Requirement already satisfied: requests in ./.venv/lib/python3.13/site-packages (from kubernetes>=28.1.0->chromadb>=0.5.23->langchain-graph-retriever[chroma]) (2.32.3)\n",
      "Requirement already satisfied: requests-oauthlib in ./.venv/lib/python3.13/site-packages (from kubernetes>=28.1.0->chromadb>=0.5.23->langchain-graph-retriever[chroma]) (2.0.0)\n",
      "Requirement already satisfied: oauthlib>=3.2.2 in ./.venv/lib/python3.13/site-packages (from kubernetes>=28.1.0->chromadb>=0.5.23->langchain-graph-retriever[chroma]) (3.2.2)\n",
      "Requirement already satisfied: urllib3>=1.24.2 in ./.venv/lib/python3.13/site-packages (from kubernetes>=28.1.0->chromadb>=0.5.23->langchain-graph-retriever[chroma]) (2.3.0)\n",
      "Requirement already satisfied: durationpy>=0.7 in ./.venv/lib/python3.13/site-packages (from kubernetes>=28.1.0->chromadb>=0.5.23->langchain-graph-retriever[chroma]) (0.9)\n",
      "Requirement already satisfied: requests-toolbelt<2.0.0,>=1.0.0 in ./.venv/lib/python3.13/site-packages (from langsmith<0.4,>=0.1.125->langchain-core>=0.3.29->langchain-graph-retriever[chroma]) (1.0.0)\n",
      "Requirement already satisfied: zstandard<0.24.0,>=0.23.0 in ./.venv/lib/python3.13/site-packages (from langsmith<0.4,>=0.1.125->langchain-core>=0.3.29->langchain-graph-retriever[chroma]) (0.23.0)\n",
      "Requirement already satisfied: coloredlogs in ./.venv/lib/python3.13/site-packages (from onnxruntime>=1.14.1->chromadb>=0.5.23->langchain-graph-retriever[chroma]) (15.0.1)\n",
      "Requirement already satisfied: flatbuffers in ./.venv/lib/python3.13/site-packages (from onnxruntime>=1.14.1->chromadb>=0.5.23->langchain-graph-retriever[chroma]) (25.2.10)\n",
      "Requirement already satisfied: protobuf in ./.venv/lib/python3.13/site-packages (from onnxruntime>=1.14.1->chromadb>=0.5.23->langchain-graph-retriever[chroma]) (5.29.3)\n",
      "Requirement already satisfied: sympy in ./.venv/lib/python3.13/site-packages (from onnxruntime>=1.14.1->chromadb>=0.5.23->langchain-graph-retriever[chroma]) (1.13.3)\n",
      "Requirement already satisfied: deprecated>=1.2.6 in ./.venv/lib/python3.13/site-packages (from opentelemetry-api>=1.2.0->chromadb>=0.5.23->langchain-graph-retriever[chroma]) (1.2.18)\n",
      "Requirement already satisfied: importlib-metadata<8.7.0,>=6.0 in ./.venv/lib/python3.13/site-packages (from opentelemetry-api>=1.2.0->chromadb>=0.5.23->langchain-graph-retriever[chroma]) (8.6.1)\n",
      "Requirement already satisfied: googleapis-common-protos~=1.52 in ./.venv/lib/python3.13/site-packages (from opentelemetry-exporter-otlp-proto-grpc>=1.2.0->chromadb>=0.5.23->langchain-graph-retriever[chroma]) (1.69.1)\n",
      "Requirement already satisfied: opentelemetry-exporter-otlp-proto-common==1.31.0 in ./.venv/lib/python3.13/site-packages (from opentelemetry-exporter-otlp-proto-grpc>=1.2.0->chromadb>=0.5.23->langchain-graph-retriever[chroma]) (1.31.0)\n",
      "Requirement already satisfied: opentelemetry-proto==1.31.0 in ./.venv/lib/python3.13/site-packages (from opentelemetry-exporter-otlp-proto-grpc>=1.2.0->chromadb>=0.5.23->langchain-graph-retriever[chroma]) (1.31.0)\n",
      "Requirement already satisfied: opentelemetry-instrumentation-asgi==0.52b0 in ./.venv/lib/python3.13/site-packages (from opentelemetry-instrumentation-fastapi>=0.41b0->chromadb>=0.5.23->langchain-graph-retriever[chroma]) (0.52b0)\n",
      "Requirement already satisfied: opentelemetry-instrumentation==0.52b0 in ./.venv/lib/python3.13/site-packages (from opentelemetry-instrumentation-fastapi>=0.41b0->chromadb>=0.5.23->langchain-graph-retriever[chroma]) (0.52b0)\n",
      "Requirement already satisfied: opentelemetry-semantic-conventions==0.52b0 in ./.venv/lib/python3.13/site-packages (from opentelemetry-instrumentation-fastapi>=0.41b0->chromadb>=0.5.23->langchain-graph-retriever[chroma]) (0.52b0)\n",
      "Requirement already satisfied: opentelemetry-util-http==0.52b0 in ./.venv/lib/python3.13/site-packages (from opentelemetry-instrumentation-fastapi>=0.41b0->chromadb>=0.5.23->langchain-graph-retriever[chroma]) (0.52b0)\n",
      "Requirement already satisfied: wrapt<2.0.0,>=1.0.0 in ./.venv/lib/python3.13/site-packages (from opentelemetry-instrumentation==0.52b0->opentelemetry-instrumentation-fastapi>=0.41b0->chromadb>=0.5.23->langchain-graph-retriever[chroma]) (1.17.2)\n",
      "Requirement already satisfied: asgiref~=3.0 in ./.venv/lib/python3.13/site-packages (from opentelemetry-instrumentation-asgi==0.52b0->opentelemetry-instrumentation-fastapi>=0.41b0->chromadb>=0.5.23->langchain-graph-retriever[chroma]) (3.8.1)\n",
      "Requirement already satisfied: monotonic>=1.5 in ./.venv/lib/python3.13/site-packages (from posthog>=2.4.0->chromadb>=0.5.23->langchain-graph-retriever[chroma]) (1.6)\n",
      "Requirement already satisfied: distro>=1.5.0 in ./.venv/lib/python3.13/site-packages (from posthog>=2.4.0->chromadb>=0.5.23->langchain-graph-retriever[chroma]) (1.9.0)\n",
      "Requirement already satisfied: iniconfig in ./.venv/lib/python3.13/site-packages (from pytest>=8.3.4->graph-retriever->langchain-graph-retriever[chroma]) (2.0.0)\n",
      "Requirement already satisfied: pluggy<2,>=1.5 in ./.venv/lib/python3.13/site-packages (from pytest>=8.3.4->graph-retriever->langchain-graph-retriever[chroma]) (1.5.0)\n",
      "Requirement already satisfied: markdown-it-py>=2.2.0 in ./.venv/lib/python3.13/site-packages (from rich>=10.11.0->chromadb>=0.5.23->langchain-graph-retriever[chroma]) (3.0.0)\n",
      "Requirement already satisfied: pygments<3.0.0,>=2.13.0 in ./.venv/lib/python3.13/site-packages (from rich>=10.11.0->chromadb>=0.5.23->langchain-graph-retriever[chroma]) (2.19.1)\n",
      "Requirement already satisfied: huggingface-hub<1.0,>=0.16.4 in ./.venv/lib/python3.13/site-packages (from tokenizers>=0.13.2->chromadb>=0.5.23->langchain-graph-retriever[chroma]) (0.29.3)\n",
      "Requirement already satisfied: click>=8.0.0 in ./.venv/lib/python3.13/site-packages (from typer>=0.9.0->chromadb>=0.5.23->langchain-graph-retriever[chroma]) (8.1.8)\n",
      "Requirement already satisfied: shellingham>=1.3.0 in ./.venv/lib/python3.13/site-packages (from typer>=0.9.0->chromadb>=0.5.23->langchain-graph-retriever[chroma]) (1.5.4)\n",
      "Requirement already satisfied: httptools>=0.6.3 in ./.venv/lib/python3.13/site-packages (from uvicorn[standard]>=0.18.3->chromadb>=0.5.23->langchain-graph-retriever[chroma]) (0.6.4)\n",
      "Requirement already satisfied: python-dotenv>=0.13 in ./.venv/lib/python3.13/site-packages (from uvicorn[standard]>=0.18.3->chromadb>=0.5.23->langchain-graph-retriever[chroma]) (1.0.1)\n",
      "Requirement already satisfied: uvloop!=0.15.0,!=0.15.1,>=0.14.0 in ./.venv/lib/python3.13/site-packages (from uvicorn[standard]>=0.18.3->chromadb>=0.5.23->langchain-graph-retriever[chroma]) (0.21.0)\n",
      "Requirement already satisfied: watchfiles>=0.13 in ./.venv/lib/python3.13/site-packages (from uvicorn[standard]>=0.18.3->chromadb>=0.5.23->langchain-graph-retriever[chroma]) (1.0.4)\n",
      "Requirement already satisfied: websockets>=10.4 in ./.venv/lib/python3.13/site-packages (from uvicorn[standard]>=0.18.3->chromadb>=0.5.23->langchain-graph-retriever[chroma]) (15.0.1)\n",
      "Requirement already satisfied: cachetools<6.0,>=2.0.0 in ./.venv/lib/python3.13/site-packages (from google-auth>=1.0.1->kubernetes>=28.1.0->chromadb>=0.5.23->langchain-graph-retriever[chroma]) (5.5.2)\n",
      "Requirement already satisfied: pyasn1-modules>=0.2.1 in ./.venv/lib/python3.13/site-packages (from google-auth>=1.0.1->kubernetes>=28.1.0->chromadb>=0.5.23->langchain-graph-retriever[chroma]) (0.4.1)\n",
      "Requirement already satisfied: rsa<5,>=3.1.4 in ./.venv/lib/python3.13/site-packages (from google-auth>=1.0.1->kubernetes>=28.1.0->chromadb>=0.5.23->langchain-graph-retriever[chroma]) (4.9)\n",
      "Requirement already satisfied: filelock in ./.venv/lib/python3.13/site-packages (from huggingface-hub<1.0,>=0.16.4->tokenizers>=0.13.2->chromadb>=0.5.23->langchain-graph-retriever[chroma]) (3.17.0)\n",
      "Requirement already satisfied: fsspec>=2023.5.0 in ./.venv/lib/python3.13/site-packages (from huggingface-hub<1.0,>=0.16.4->tokenizers>=0.13.2->chromadb>=0.5.23->langchain-graph-retriever[chroma]) (2025.3.0)\n",
      "Requirement already satisfied: zipp>=3.20 in ./.venv/lib/python3.13/site-packages (from importlib-metadata<8.7.0,>=6.0->opentelemetry-api>=1.2.0->chromadb>=0.5.23->langchain-graph-retriever[chroma]) (3.21.0)\n",
      "Requirement already satisfied: mdurl~=0.1 in ./.venv/lib/python3.13/site-packages (from markdown-it-py>=2.2.0->rich>=10.11.0->chromadb>=0.5.23->langchain-graph-retriever[chroma]) (0.1.2)\n",
      "Requirement already satisfied: charset-normalizer<4,>=2 in ./.venv/lib/python3.13/site-packages (from requests->kubernetes>=28.1.0->chromadb>=0.5.23->langchain-graph-retriever[chroma]) (3.4.1)\n",
      "Requirement already satisfied: sniffio>=1.1 in ./.venv/lib/python3.13/site-packages (from anyio->httpx>=0.27.0->chromadb>=0.5.23->langchain-graph-retriever[chroma]) (1.3.1)\n",
      "Requirement already satisfied: humanfriendly>=9.1 in ./.venv/lib/python3.13/site-packages (from coloredlogs->onnxruntime>=1.14.1->chromadb>=0.5.23->langchain-graph-retriever[chroma]) (10.0)\n",
      "Requirement already satisfied: mpmath<1.4,>=1.1.0 in ./.venv/lib/python3.13/site-packages (from sympy->onnxruntime>=1.14.1->chromadb>=0.5.23->langchain-graph-retriever[chroma]) (1.3.0)\n",
      "Requirement already satisfied: pyasn1<0.7.0,>=0.4.6 in ./.venv/lib/python3.13/site-packages (from pyasn1-modules>=0.2.1->google-auth>=1.0.1->kubernetes>=28.1.0->chromadb>=0.5.23->langchain-graph-retriever[chroma]) (0.6.1)\n",
      "\n",
      "\u001b[1m[\u001b[0m\u001b[34;49mnotice\u001b[0m\u001b[1;39;49m]\u001b[0m\u001b[39;49m A new release of pip is available: \u001b[0m\u001b[31;49m25.0\u001b[0m\u001b[39;49m -> \u001b[0m\u001b[32;49m25.0.1\u001b[0m\n",
      "\u001b[1m[\u001b[0m\u001b[34;49mnotice\u001b[0m\u001b[1;39;49m]\u001b[0m\u001b[39;49m To update, run: \u001b[0m\u001b[32;49mpip install --upgrade pip\u001b[0m\n"
     ]
    }
   ],
   "source": [
    "! pip install \"langchain-graph-retriever[chroma]\""
   ]
  },
  {
   "cell_type": "markdown",
   "metadata": {},
   "source": [
    "简单处理下数据"
   ]
  },
  {
   "cell_type": "code",
   "execution_count": 6,
   "metadata": {},
   "outputs": [
    {
     "name": "stdout",
     "output_type": "stream",
     "text": [
      "[Document(id='aardvark', metadata={'type': 'mammal', 'number_of_legs': 4, 'keywords': ['burrowing', 'nocturnal', 'ants', 'savanna'], 'habitat': 'savanna', 'tags': [{'a': 5, 'b': 7}, {'a': 8, 'b': 10}]}, page_content='the aardvark is a nocturnal mammal known for its burrowing habits and long snout used to sniff out ants.'), Document(id='albatross', metadata={'type': 'bird', 'number_of_legs': 2, 'keywords': ['seabird', 'wingspan', 'ocean'], 'habitat': 'marine', 'tags': [{'a': 5, 'b': 8}, {'a': 8, 'b': 10}]}, page_content='the albatross is a large seabird with the longest wingspan of any bird, allowing it to glide effortlessly over oceans.'), Document(id='alligator', metadata={'type': 'reptile', 'number_of_legs': 4, 'keywords': ['reptile', 'jaws', 'wetlands'], 'diet': 'carnivorous'}, page_content='alligators are large reptiles with powerful jaws and are commonly found in freshwater wetlands.'), Document(id='alpaca', metadata={'type': 'mammal', 'number_of_legs': 4, 'keywords': ['wool', 'domesticated', 'friendly'], 'origin': 'south america'}, page_content='alpacas are domesticated mammals valued for their soft wool and friendly demeanor.'), Document(id='ant', metadata={'type': 'insect', 'number_of_legs': 6, 'keywords': ['social', 'colonies', 'strength', 'pollinator'], 'diet': 'omnivorous'}, page_content='ants are social insects that live in colonies and are known for their teamwork and strength.'), Document(id='anteater', metadata={'type': 'mammal', 'number_of_legs': 4, 'keywords': ['ants', 'tongue', 'termites'], 'diet': 'insectivore'}, page_content='anteaters use their long tongues to eat thousands of ants and termites each day.'), Document(id='antelope', metadata={'type': 'mammal', 'number_of_legs': 4, 'keywords': ['graceful', 'herbivore', 'prey'], 'habitat': 'grasslands'}, page_content='antelopes are graceful herbivorous mammals that are often prey for large predators in the wild.'), Document(id='armadillo', metadata={'type': 'mammal', 'number_of_legs': 4, 'keywords': ['protective', 'shell', 'rolling'], 'diet': 'insectivore'}, page_content='armadillos have hard, protective shells and are known for their ability to roll into a ball.'), Document(id='baboon', metadata={'type': 'mammal', 'number_of_legs': 4, 'keywords': ['social', 'primates', 'group'], 'diet': 'omnivorous'}, page_content='baboons are highly social primates with complex group dynamics and strong bonds.'), Document(id='badger', metadata={'type': 'mammal', 'number_of_legs': 4, 'keywords': ['burrowing', 'defense', 'digging'], 'diet': 'omnivorous'}, page_content='badgers are burrowing mammals known for their aggressive defense and digging skills.'), Document(id='barracuda', metadata={'type': 'fish', 'number_of_legs': 0, 'keywords': ['predatory', 'sharp teeth', 'streamlined'], 'habitat': 'marine'}, page_content='the barracuda is a fierce predatory fish with sharp teeth and streamlined bodies.'), Document(id='bat', metadata={'type': 'mammal', 'number_of_legs': 2, 'keywords': ['flight', 'pollinator', 'pest control'], 'activity': 'nocturnal'}, page_content='bats are the only mammals capable of sustained flight and are essential for pollination and pest control.'), Document(id='bear', metadata={'type': 'mammal', 'number_of_legs': 4, 'keywords': ['large', 'habitat', 'omnivore', 'forest-floor'], 'diet': 'omnivorous', 'habitat': 'tundra'}, page_content='bears are large mammals that can be found across many habitats, from forests to tundras.'), Document(id='beaver', metadata={'type': 'mammal', 'number_of_legs': 4, 'keywords': ['dam-building', 'ecosystem', 'rivers'], 'diet': 'herbivorous'}, page_content='beavers are known for their dam-building skills, creating entire ecosystems in rivers and streams.'), Document(id='bee', metadata={'type': 'insect', 'number_of_legs': 6, 'keywords': ['pollinator', 'agriculture', 'honey'], 'activity': 'diurnal'}, page_content='bees are an insect that is a vital pollinator, playing a crucial role in agriculture and ecosystems.'), Document(id='beetle', metadata={'type': 'insect', 'number_of_legs': 6, 'keywords': ['diverse', 'species', 'hard shell'], 'diet': 'varied'}, page_content='beetles are one of the most diverse groups of insects, with over 350,000 species identified.'), Document(id='bison', metadata={'type': 'mammal', 'number_of_legs': 4, 'keywords': ['herbivore', 'grasslands', 'herds'], 'conservation': 'near-threatened'}, page_content='bison are massive herbivores that once roamed the grasslands of north america in vast herds.'), Document(id='blue jay', metadata={'type': 'bird', 'number_of_legs': 2, 'keywords': ['intelligent', 'loud', 'brightly colored'], 'diet': 'omnivorous'}, page_content='the blue jay is a brightly colored bird known for its intelligence and loud calls.'), Document(id='boar', metadata={'type': 'mammal', 'number_of_legs': 4, 'keywords': ['wild', 'tusks', 'pigs'], 'diet': 'omnivorous'}, page_content='boars are wild relatives of pigs, known for their tough hides and tusks.'), Document(id='bobcat', metadata={'type': 'mammal', 'number_of_legs': 4, 'keywords': ['wildcat', 'solitary', 'tufted ears', 'forest-floor'], 'habitat': 'forest-floor'}, page_content='the bobcat is a medium-sized wildcat known for its tufted ears and solitary nature.'), Document(id='buffalo', metadata={'type': 'mammal', 'number_of_legs': 4, 'keywords': ['herbivore', 'horns', 'grazing'], 'habitat': 'grasslands'}, page_content='buffalo are large herbivorous mammals known for their horns and grazing habits.'), Document(id='butterfly', metadata={'type': 'insect', 'number_of_legs': 6, 'keywords': ['colorful', 'metamorphosis', 'pollinator'], 'activity': 'diurnal'}, page_content='butterflies are colorful insects known for their metamorphosis from caterpillars.'), Document(id='camel', metadata={'type': 'mammal', 'number_of_legs': 4, 'keywords': ['desert', 'humps', 'survival'], 'adaptation': 'arid climates'}, page_content='camels are desert mammals known for their humps, which store fat for survival.'), Document(id='capybara', metadata={'type': 'mammal', 'number_of_legs': 4, 'keywords': ['rodent', 'social', 'largest'], 'habitat': 'wetlands'}, page_content='capybaras are the largest rodents in the world and are highly social animals.'), Document(id='caribou', metadata={'type': 'mammal', 'number_of_legs': 4, 'keywords': ['migratory', 'arctic', 'herbivore', 'tundra'], 'diet': 'herbivorous'}, page_content='caribou, also known as reindeer, are migratory mammals found in arctic regions.'), Document(id='cassowary', metadata={'type': 'bird', 'number_of_legs': 2, 'keywords': ['flightless', 'colorful', 'powerful'], 'habitat': 'rainforest'}, page_content='cassowaries are flightless birds known for their colorful necks and powerful legs.'), Document(id='cat', metadata={'type': 'mammal', 'number_of_legs': 4, 'keywords': ['domesticated', 'hunting', 'agile'], 'diet': 'carnivorous'}, page_content='cats are domesticated mammals known for their agility, independence, and hunting skills.'), Document(id='caterpillar', metadata={'type': 'insect', 'number_of_legs': 6, 'keywords': ['larva', 'metamorphosis', 'appetite'], 'diet': 'herbivorous'}, page_content='caterpillars are the larval stage of butterflies and moths, known for their voracious appetites.'), Document(id='chameleon', metadata={'type': 'reptile', 'number_of_legs': 4, 'keywords': ['color change', 'sticky tongue', 'camouflage'], 'habitat': 'forest'}, page_content='chameleons are reptiles known for their ability to change color and their long, sticky tongues.'), Document(id='cheetah', metadata={'type': 'mammal', 'number_of_legs': 4, 'keywords': ['fastest', 'speed', 'predator'], 'habitat': 'savanna'}, page_content='cheetahs are the fastest land animals, capable of reaching speeds up to 70 mph.'), Document(id='chicken', metadata={'type': 'bird', 'number_of_legs': 2, 'keywords': ['domesticated', 'eggs', 'meat'], 'diet': 'omnivorous'}, page_content='chickens are domesticated birds raised for their eggs and meat worldwide.'), Document(id='chimpanzee', metadata={'type': 'mammal', 'number_of_legs': 4, 'keywords': ['intelligent', 'primates', 'dna'], 'habitat': 'forest'}, page_content='chimpanzees are intelligent primates that share about 98% of their dna with humans.'), Document(id='chinchilla', metadata={'type': 'mammal', 'number_of_legs': 4, 'keywords': ['soft fur', 'rodent', 'andes'], 'diet': 'herbivorous'}, page_content='chinchillas are small rodents with incredibly soft fur, native to the andes mountains.'), Document(id='cobra', metadata={'type': 'reptile', 'number_of_legs': 0, 'keywords': ['venomous', 'hood', 'snake'], 'habitat': 'forest-floor'}, page_content='cobras are venomous snakes known for their hood displays and defensive postures.'), Document(id='cockroach', metadata={'type': 'insect', 'number_of_legs': 6, 'keywords': ['resilient', 'extreme conditions', 'scavenger'], 'diet': 'omnivorous'}, page_content='cockroaches are resilient insects capable of surviving in extreme conditions.'), Document(id='coyote', metadata={'type': 'mammal', 'number_of_legs': 4, 'keywords': ['howls', 'adaptable', 'cunning'], 'habitat': 'grasslands'}, page_content='coyotes are adaptable mammals known for their distinctive howls and cunning nature.'), Document(id='crab', metadata={'type': 'crustacean', 'number_of_legs': 8, 'keywords': ['hard shell', 'pincers', 'coastal'], 'habitat': 'marine'}, page_content='crabs are crustaceans with hard shells and pincers, commonly found near coastal areas.'), Document(id='crane', metadata={'type': 'bird', 'number_of_legs': 2, 'keywords': ['elegant', 'courtship', 'dance'], 'habitat': 'wetlands'}, page_content='cranes are large, elegant birds known for their elaborate courtship dances.'), Document(id='crocodile', metadata={'type': 'reptile', 'number_of_legs': 4, 'keywords': ['reptile', 'jaws', 'long lifespan'], 'habitat': 'wetlands'}, page_content='crocodiles are large reptiles with powerful jaws and a long lifespan, often living over 70 years.'), Document(id='crow', metadata={'type': 'bird', 'number_of_legs': 2, 'keywords': ['intelligent', 'adaptable', 'problem-solving'], 'diet': 'omnivorous'}, page_content='crows are highly intelligent birds known for their problem-solving skills and adaptability.'), Document(id='deer', metadata={'type': 'mammal', 'number_of_legs': 4, 'keywords': ['antlers', 'graceful', 'herbivore'], 'habitat': 'forest-floor'}, page_content='deer are graceful mammals known for their antlers, which are shed and regrown annually.'), Document(id='dingo', metadata={'type': 'mammal', 'number_of_legs': 4, 'keywords': ['wild canine', 'australia', 'adaptable'], 'diet': 'carnivorous'}, page_content='dingoes are wild canines native to australia, known for their adaptability and hunting skills.'), Document(id='dog', metadata={'type': 'mammal', 'number_of_legs': 4, 'keywords': ['domesticated', 'loyal', 'companion'], 'diet': 'omnivorous'}, page_content=\"dogs are domesticated mammals known as loyal companions and are widely regarded as 'man's best friend.'\"), Document(id='dolphin', metadata={'type': 'mammal', 'number_of_legs': 0, 'keywords': ['intelligent', 'marine', 'playful'], 'habitat': 'ocean'}, page_content='dolphins are intelligent marine mammals known for their playful behavior and communication skills.'), Document(id='donkey', metadata={'type': 'mammal', 'number_of_legs': 4, 'keywords': ['hardy', 'working animal', 'strength'], 'diet': 'herbivorous'}, page_content='donkeys are hardy mammals known for their strength and use as working animals.'), Document(id='dove', metadata={'type': 'bird', 'number_of_legs': 2, 'keywords': ['gentle', 'peace', 'symbolism'], 'diet': 'herbivorous'}, page_content='doves are gentle birds often symbolizing peace and love in various cultures.'), Document(id='dragonfly', metadata={'type': 'insect', 'number_of_legs': 6, 'keywords': ['fast-flying', 'vibrant', 'vision'], 'habitat': 'wetlands'}, page_content='dragonflies are fast-flying insects known for their vibrant colors and excellent vision.'), Document(id='duck', metadata={'type': 'bird', 'number_of_legs': 2, 'keywords': ['webbed feet', 'waterfowl', 'quacking'], 'habitat': 'wetlands'}, page_content='ducks are waterfowl birds known for their webbed feet and quacking sounds.'), Document(id='eagle', metadata={'type': 'bird', 'number_of_legs': 2, 'keywords': ['bird of prey', 'sharp vision', 'talons'], 'diet': 'carnivorous'}, page_content='eagles are powerful birds of prey known for their sharp vision and strong talons.'), Document(id='eel', metadata={'type': 'fish', 'number_of_legs': 0, 'keywords': ['elongated', 'marine', 'freshwater'], 'diet': 'carnivorous'}, page_content='eels are elongated fish often found in marine and freshwater environments.'), Document(id='elephant', metadata={'type': 'mammal', 'number_of_legs': 4, 'keywords': ['largest', 'intelligent', 'social bonds'], 'diet': 'herbivorous'}, page_content='elephants are the largest land mammals, known for their intelligence and strong social bonds.'), Document(id='elk', metadata={'type': 'mammal', 'number_of_legs': 4, 'keywords': ['antlers', 'bugling', 'mating'], 'habitat': 'forest-floor'}, page_content='elk are large deer species known for their impressive antlers and bugling calls during mating season.'), Document(id='emu', metadata={'type': 'bird', 'number_of_legs': 2, 'keywords': ['flightless', 'speed', 'australia'], 'diet': 'omnivorous'}, page_content='emus are large flightless birds native to australia, known for their speed and size.'), Document(id='falcon', metadata={'type': 'bird', 'number_of_legs': 2, 'keywords': ['speed', 'precision', 'bird of prey'], 'diet': 'carnivorous'}, page_content='falcons are birds of prey known for their speed and precision in hunting.'), Document(id='ferret', metadata={'type': 'mammal', 'number_of_legs': 4, 'keywords': ['playful', 'curious', 'pet'], 'diet': 'carnivorous'}, page_content='ferrets are small, curious mammals often kept as pets for their playful nature.'), Document(id='finch', metadata={'type': 'bird', 'number_of_legs': 2, 'keywords': ['small', 'songs', 'diverse'], 'diet': 'herbivorous'}, page_content='finches are small birds known for their diverse species and beautiful songs.'), Document(id='fish', metadata={'type': 'fish', 'number_of_legs': 0, 'keywords': ['aquatic', 'gills', 'marine'], 'habitat': 'water'}, page_content='fish are aquatic animals with gills, commonly found in both freshwater and marine environments.'), Document(id='flamingo', metadata={'type': 'bird', 'number_of_legs': 2, 'keywords': ['pink', 'wading', 'long legs'], 'diet': 'omnivorous'}, page_content='flamingos are wading birds famous for their pink feathers and long legs.'), Document(id='fox', metadata={'type': 'mammal', 'number_of_legs': 4, 'keywords': ['cunning', 'agile', 'bushy tail'], 'diet': 'omnivorous'}, page_content='foxes are small, agile mammals known for their cunning behavior and bushy tails.'), Document(id='frog', metadata={'type': 'amphibian', 'number_of_legs': 4, 'keywords': ['jumping', 'croaking', 'amphibian'], 'habitat': 'wetlands'}, page_content='frogs are amphibians known for their jumping ability and croaking sounds.'), Document(id='gazelle', metadata={'type': 'mammal', 'number_of_legs': 4, 'keywords': ['fast', 'agile', 'grasslands'], 'diet': 'herbivorous', 'habitat': 'savanna'}, page_content='gazelles are fast and agile mammals commonly found in grasslands and savannas.'), Document(id='gecko', metadata={'type': 'reptile', 'number_of_legs': 4, 'keywords': ['climbing', 'small lizard', 'sticky feet'], 'habitat': 'forest'}, page_content='geckos are small lizards known for their ability to climb walls and ceilings with ease.'), Document(id='giraffe', metadata={'type': 'mammal', 'number_of_legs': 4, 'keywords': ['tallest', 'long neck', 'spots'], 'diet': 'herbivorous'}, page_content='giraffes are the tallest land animals, known for their long necks and unique spotted patterns.'), Document(id='goat', metadata={'type': 'mammal', 'number_of_legs': 4, 'keywords': ['hardy', 'milk', 'meat'], 'diet': 'herbivorous'}, page_content='goats are hardy mammals often kept for their milk, meat, and ability to graze on tough vegetation.'), Document(id='goose', metadata={'type': 'bird', 'number_of_legs': 2, 'keywords': ['waterfowl', 'migration', 'honking'], 'diet': 'herbivorous'}, page_content='geese are large waterfowl known for their migration patterns and loud honking calls.'), Document(id='gorilla', metadata={'type': 'mammal', 'number_of_legs': 4, 'keywords': ['strength', 'intelligence', 'primate'], 'habitat': 'forest'}, page_content='gorillas are large primates known for their strength, intelligence, and family-oriented behavior.'), Document(id='grasshopper', metadata={'type': 'insect', 'number_of_legs': 6, 'keywords': ['jumping', 'hind legs', 'chirping'], 'diet': 'herbivorous'}, page_content='grasshoppers are jumping insects known for their powerful hind legs and chirping sounds.'), Document(id='guinea pig', metadata={'type': 'mammal', 'number_of_legs': 4, 'keywords': ['pet', 'social', 'gentle'], 'diet': 'herbivorous'}, page_content='guinea pigs are small rodents often kept as pets due to their gentle and social nature.'), Document(id='hamster', metadata={'type': 'mammal', 'number_of_legs': 4, 'keywords': ['small rodent', 'cheek pouches', 'food storage'], 'diet': 'omnivorous'}, page_content='hamsters are small rodents known for their cheek pouches used to store food.'), Document(id='hawk', metadata={'type': 'bird', 'number_of_legs': 2, 'keywords': ['bird of prey', 'keen eyesight', 'hunter'], 'diet': 'carnivorous'}, page_content='hawks are birds of prey known for their keen eyesight and hunting prowess.'), Document(id='hedgehog', metadata={'type': 'mammal', 'number_of_legs': 4, 'keywords': ['spiky', 'curling', 'small mammal'], 'diet': 'omnivorous', 'habitat': 'grasslands'}, page_content='hedgehogs are small mammals known for their spiky quills and ability to curl into a ball.'), Document(id='heron', metadata={'type': 'bird', 'number_of_legs': 2, 'keywords': ['wading', 'long legs', 'water'], 'habitat': 'wetlands'}, page_content='herons are wading birds known for their long legs and necks, often seen near water.'), Document(id='hippopotamus', metadata={'type': 'mammal', 'number_of_legs': 4, 'keywords': ['massive', 'semi-aquatic', 'territorial'], 'habitat': 'rivers'}, page_content='hippopotamuses are large semi-aquatic mammals known for their massive size and territorial behavior.'), Document(id='hornet', metadata={'type': 'insect', 'number_of_legs': 6, 'keywords': ['wasp', 'sting', 'aggressive'], 'diet': 'carnivorous'}, page_content='hornets are large, aggressive wasps known for their painful stings.'), Document(id='horse', metadata={'type': 'mammal', 'number_of_legs': 4, 'keywords': ['domesticated', 'riding', 'strong'], 'diet': 'herbivorous'}, page_content='horses are strong, domesticated mammals often used for riding, work, and sports.'), Document(id='hummingbird', metadata={'type': 'bird', 'number_of_legs': 2, 'keywords': ['hovering', 'rapid wings', 'tiny bird'], 'diet': 'nectar'}, page_content='hummingbirds are tiny birds known for their rapid wing beats and ability to hover.'), Document(id='hyena', metadata={'type': 'mammal', 'number_of_legs': 4, 'keywords': ['laughing', 'pack', 'carnivore'], 'habitat': 'savanna'}, page_content='hyenas are carnivorous mammals known for their distinctive laughs and pack behavior.'), Document(id='iguana', metadata={'type': 'reptile', 'number_of_legs': 4, 'keywords': ['large lizard', 'herbivore', 'basking'], 'habitat': 'forest'}, page_content='iguanas are large herbivorous lizards often found basking in trees and near water.'), Document(id='jackal', metadata={'type': 'mammal', 'number_of_legs': 4, 'keywords': ['scavenger', 'adaptable', 'carnivore'], 'diet': 'omnivorous'}, page_content='jackals are carnivorous mammals known for their scavenging and adaptability.'), Document(id='jaguar', metadata={'type': 'mammal', 'number_of_legs': 4, 'keywords': ['big cat', 'spotted coat', 'predator'], 'habitat': 'rainforest'}, page_content='jaguars are powerful big cats known for their spotted coats and strength as predators.'), Document(id='jellyfish', metadata={'type': 'cnidarian', 'number_of_legs': 0, 'keywords': ['marine', 'tentacles', 'stinging cells'], 'habitat': 'ocean'}, page_content='jellyfish are marine animals with umbrella-shaped bodies and tentacles, known for their stinging cells.'), Document(id='kangaroo', metadata={'type': 'mammal', 'number_of_legs': 2, 'keywords': ['marsupial', 'australia', 'pouch'], 'diet': 'herbivorous'}, page_content='kangaroos are marsupials native to australia, known for their powerful hind legs and pouches.'), Document(id='koala', metadata={'type': 'mammal', 'number_of_legs': 4, 'keywords': ['marsupial', 'tree-dwelling', 'eucalyptus'], 'diet': 'herbivorous'}, page_content='koalas are tree-dwelling marsupials native to australia, known for their diet of eucalyptus leaves.'), Document(id='komodo dragon', metadata={'type': 'reptile', 'number_of_legs': 4, 'keywords': ['large lizard', 'venom', 'bite'], 'habitat': 'islands'}, page_content='komodo dragons are the largest living lizards, known for their powerful bite and venom.'), Document(id='lark', metadata={'type': 'bird', 'number_of_legs': 2, 'keywords': ['songbird', 'melodious', 'ground-nesting'], 'diet': 'herbivorous'}, page_content='larks are small songbirds known for their melodious calls and ground-nesting habits.'), Document(id='lemur', metadata={'type': 'mammal', 'number_of_legs': 4, 'keywords': ['primates', 'madagascar', 'social'], 'diet': 'omnivorous'}, page_content='lemurs are primates native to madagascar, known for their large eyes and social behavior.'), Document(id='leopard', metadata={'type': 'mammal', 'number_of_legs': 4, 'keywords': ['big cat', 'spotted coat', 'climbing'], 'habitat': 'forest'}, page_content='leopards are big cats known for their spotted coats and ability to climb trees.'), Document(id='lion', metadata={'type': 'mammal', 'number_of_legs': 4, 'keywords': ['carnivorous', 'pride', 'king of the jungle'], 'habitat': 'savanna'}, page_content=\"lions are large carnivorous cats known as the 'king of the jungle,' living in prides.\"), Document(id='lizard', metadata={'type': 'reptile', 'number_of_legs': 4, 'keywords': ['reptile', 'regeneration', 'diverse'], 'habitat': 'varied'}, page_content='lizards are reptiles known for their ability to regenerate their tails and their diverse species.'), Document(id='lobster', metadata={'type': 'crustacean', 'number_of_legs': 10, 'keywords': ['marine', 'pincers', 'seafloor'], 'diet': 'carnivorous'}, page_content='lobsters are marine crustaceans known for their hard shells and pincers, often found on the seafloor.'), Document(id='magpie', metadata={'type': 'bird', 'number_of_legs': 2, 'keywords': ['intelligent', 'plumage', 'mimicry'], 'diet': 'omnivorous'}, page_content='magpies are intelligent birds known for their black-and-white plumage and ability to mimic sounds.'), Document(id='manatee', metadata={'type': 'mammal', 'number_of_legs': 0, 'keywords': ['marine', 'gentle', 'sea cow'], 'diet': 'herbivorous'}, page_content=\"manatees are large, gentle marine mammals often called 'sea cows' for their grazing habits.\"), Document(id='mongoose', metadata={'type': 'mammal', 'number_of_legs': 4, 'keywords': ['carnivore', 'agile', 'snake fighter'], 'habitat': 'forest-floor'}, page_content='mongooses are small carnivorous mammals known for their agility and ability to fight snakes.'), Document(id='moose', metadata={'type': 'mammal', 'number_of_legs': 4, 'keywords': ['large', 'antlers', 'deer family'], 'diet': 'herbivorous'}, page_content='moose are the largest members of the deer family, known for their massive antlers.'), Document(id='mosquito', metadata={'type': 'insect', 'number_of_legs': 6, 'keywords': ['bites', 'disease', 'vector'], 'diet': 'blood'}, page_content='mosquitoes are small insects known for their bites and role as disease vectors.'), Document(id='narwhal', metadata={'type': 'mammal', 'number_of_legs': 0, 'keywords': ['marine', 'tusks', 'unicorn'], 'habitat': 'arctic'}, page_content=\"narwhals are marine mammals known as 'unicorns of the sea' due to their long tusks.\"), Document(id='newt', metadata={'type': 'amphibian', 'number_of_legs': 4, 'keywords': ['regeneration', 'amphibian', 'small'], 'habitat': 'wetlands'}, page_content='newts are small amphibians known for their ability to regenerate limbs and tails.'), Document(id='octopus', metadata={'type': 'mollusk', 'number_of_legs': 8, 'keywords': ['intelligent', 'problem-solving', 'marine'], 'diet': 'carnivorous'}, page_content='octopuses are highly intelligent marine animals known for their problem-solving skills and eight arms.'), Document(id='ostrich', metadata={'type': 'bird', 'number_of_legs': 2, 'keywords': ['large', 'flightless', 'fast'], 'habitat': 'savanna'}, page_content='ostriches are the largest and fastest birds, though they are flightless.')]\n"
     ]
    }
   ],
   "source": [
    "for doc in animals:\n",
    "    keys_to_delete = []\n",
    "    for key, value in doc.metadata.items():\n",
    "        if isinstance(value, dict):\n",
    "            keys_to_delete.append(key)\n",
    "    for key in keys_to_delete:\n",
    "        del doc.metadata[key]\n",
    "\n",
    "print(animals)"
   ]
  },
  {
   "cell_type": "markdown",
   "metadata": {},
   "source": [
    "创建一个向量数据库测试"
   ]
  },
  {
   "cell_type": "code",
   "execution_count": 7,
   "metadata": {},
   "outputs": [],
   "source": [
    "from langchain_chroma.vectorstores import Chroma\n",
    "from langchain_graph_retriever.transformers import ShreddingTransformer\n",
    "\n",
    "\n",
    "vector_store = Chroma.from_documents(\n",
    "    documents=list(ShreddingTransformer().transform_documents(animals)),\n",
    "    embedding=embeddings,\n",
    "    collection_name=\"animals\",\n",
    ")"
   ]
  },
  {
   "cell_type": "markdown",
   "metadata": {},
   "source": [
    "创建一个基于知识图谱的检索，在这个检索里检索器从与查询最匹配的单个动物开始，然后遍历到具有相同habitat或origin的动物"
   ]
  },
  {
   "cell_type": "code",
   "execution_count": 8,
   "metadata": {},
   "outputs": [],
   "source": [
    "from graph_retriever.strategies import Eager\n",
    "from langchain_graph_retriever import GraphRetriever\n",
    "\n",
    "traversal_retriever = GraphRetriever(\n",
    "    store = vector_store,\n",
    "    edges = [(\"habitat\", \"habitat\"), (\"origin\", \"origin\")],\n",
    "    strategy = Eager(k=5, start_k=1, max_depth=2),\n",
    ")"
   ]
  },
  {
   "cell_type": "markdown",
   "metadata": {},
   "source": [
    "提问"
   ]
  },
  {
   "cell_type": "code",
   "execution_count": 9,
   "metadata": {},
   "outputs": [
    {
     "name": "stdout",
     "output_type": "stream",
     "text": [
      "capybara: capybaras are the largest rodents in the world and are highly social animals.\n",
      "heron: herons are wading birds known for their long legs and necks, often seen near water.\n",
      "crocodile: crocodiles are large reptiles with powerful jaws and a long lifespan, often living over 70 years.\n",
      "frog: frogs are amphibians known for their jumping ability and croaking sounds.\n",
      "duck: ducks are waterfowl birds known for their webbed feet and quacking sounds.\n"
     ]
    }
   ],
   "source": [
    "results = traversal_retriever.invoke(\"what animals could be found near a capybara?\")\n",
    "\n",
    "for doc in results:\n",
    "    print(f\"{doc.id}: {doc.page_content}\")"
   ]
  },
  {
   "cell_type": "markdown",
   "metadata": {},
   "source": [
    "整合到问答链中"
   ]
  },
  {
   "cell_type": "code",
   "execution_count": 10,
   "metadata": {},
   "outputs": [],
   "source": [
    "from langchain_deepseek import ChatDeepSeek\n",
    "import os\n",
    "llm = ChatDeepSeek(\n",
    "    model=\"Pro/deepseek-ai/DeepSeek-V3\",\n",
    "    temperature=0,\n",
    "    api_key=os.environ.get(\"DEEPSEEK_API_KEY\"),\n",
    "    api_base=os.environ.get(\"DEEPSEEK_API_BASE\"),\n",
    ")"
   ]
  },
  {
   "cell_type": "code",
   "execution_count": 11,
   "metadata": {},
   "outputs": [],
   "source": [
    "from langchain_core.output_parsers import StrOutputParser\n",
    "from langchain_core.prompts import ChatPromptTemplate\n",
    "from langchain_core.runnables import RunnablePassthrough\n",
    "\n",
    "prompt = ChatPromptTemplate.from_template(\n",
    "\"\"\"Answer the question based only on the context provided.\n",
    "\n",
    "Context: {context}\n",
    "\n",
    "Question: {question}\n",
    "the final answer should be use chinese\n",
    "\"\"\"\n",
    "\n",
    ")\n",
    "\n",
    "def format_docs(docs):\n",
    "    return \"\\n\\n\".join(f\"text: {doc.page_content} metadata: {doc.metadata}\" for doc in docs)\n",
    "\n",
    "chain = (\n",
    "    {\"context\": traversal_retriever | format_docs, \"question\": RunnablePassthrough()}\n",
    "    | prompt\n",
    "    | llm\n",
    "    | StrOutputParser()\n",
    ")"
   ]
  },
  {
   "cell_type": "code",
   "execution_count": 12,
   "metadata": {},
   "outputs": [
    {
     "data": {
      "text/plain": [
       "'根据提供的上下文，以下动物可能会出现在水豚附近，因为它们都生活在湿地环境中：\\n\\n1. 鹭 (Herons)  \\n2. 鳄鱼 (Crocodiles)  \\n3. 青蛙 (Frogs)  \\n4. 鸭子 (Ducks)  \\n\\n这些动物与水豚共享湿地栖息地，因此可能会在附近出现。'"
      ]
     },
     "execution_count": 12,
     "metadata": {},
     "output_type": "execute_result"
    }
   ],
   "source": [
    "chain.invoke(\"what animals could be found near a capybara?\")"
   ]
  }
 ],
 "metadata": {
  "kernelspec": {
   "display_name": ".venv",
   "language": "python",
   "name": "python3"
  },
  "language_info": {
   "codemirror_mode": {
    "name": "ipython",
    "version": 3
   },
   "file_extension": ".py",
   "mimetype": "text/x-python",
   "name": "python",
   "nbconvert_exporter": "python",
   "pygments_lexer": "ipython3",
   "version": "3.13.2"
  }
 },
 "nbformat": 4,
 "nbformat_minor": 2
}
